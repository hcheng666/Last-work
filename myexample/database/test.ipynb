{
 "cells": [
  {
   "cell_type": "code",
   "execution_count": 1,
   "metadata": {},
   "outputs": [],
   "source": [
    "import psycopg2"
   ]
  },
  {
   "cell_type": "code",
   "execution_count": 2,
   "metadata": {},
   "outputs": [],
   "source": [
    "conn = psycopg2.connect(database=\"first\", user=\"postgres\", password=\"774165\", host=\"127.0.0.1\", port=\"5432\")"
   ]
  },
  {
   "cell_type": "code",
   "execution_count": 1,
   "metadata": {},
   "outputs": [],
   "source": [
    "import pandas as pd\n",
    "import psycopg2\n",
    "import sqlalchemy\n",
    "from sqlalchemy import create_engine"
   ]
  },
  {
   "cell_type": "code",
   "execution_count": 3,
   "metadata": {},
   "outputs": [],
   "source": [
    "def import_csv_to_pg_use_df(database, user, password, host, port, csv_file_path, pg_table_name):\n",
    "    connect = create_engine(\n",
    "    f'postgresql+psycopg2://{user}:{password}@{host}:{port}/{database}')\n",
    "    # 如果有bool类型的数据，那么可以测试一下，可以使用sqlalchemy.types.VARCHAR或者sqlalchemy.types.Boolean\n",
    "    dtype_dict = {\n",
    "    \"haha_id\": sqlalchemy.types.VARCHAR,\n",
    "    \"finch_xu_text\": sqlalchemy.types.TEXT,\n",
    "    \"haha_score\": sqlalchemy.types.Float,\n",
    "    \"haha_age\": sqlalchemy.types.Integer,\n",
    "    \"haha_birthday\": sqlalchemy.types.TIMESTAMP\n",
    "    }\n",
    "    try:\n",
    "        # 由于导出时候设置双引号，那么这里读进来就是认为都是字符串。所以这里设置quoting=1和dtype=str\n",
    "        df = pd.read_csv(csv_file_path, encoding='utf-8', quoting=1, dtype=str)\n",
    "        # 这里写入数据库，我们设置了字典以保证字段类型和数据库的类型匹配。\n",
    "        df.to_sql(name=pg_table_name,\n",
    "        con=connect,\n",
    "        index=False,\n",
    "        if_exists='append',\n",
    "        dtype=dtype_dict)\n",
    "    except Exception as e:\n",
    "        print(str(e))"
   ]
  },
  {
   "cell_type": "code",
   "execution_count": 4,
   "metadata": {},
   "outputs": [],
   "source": [
    "import_csv_to_pg_use_df(database=\"first\", user=\"postgres\", password=\"774165\", host=\"127.0.0.1\", port=\"5432\", csv_file_path='../export_csv/data/edge_list.csv', pg_table_name='edge_list')"
   ]
  },
  {
   "cell_type": "code",
   "execution_count": 2,
   "metadata": {},
   "outputs": [],
   "source": [
    "df = pd.DataFrame()\n",
    "sql_query = \"select * from \"\n",
    "def output_pg_to_csv_use_df(sql_query, pg_table_name):\n",
    "    global df\n",
    "    connect = psycopg2.connect(database=\"first\", user=\"postgres\", password=\"774165\", host=\"127.0.0.1\", port=\"5432\")\n",
    "    try:\n",
    "        # pg_output_csvfile_name = str(file_ts) + pg_table_name + \"_pg_output.csv\"\n",
    "        df = pd.read_sql_query(sql_query+pg_table_name, con=connect)\n",
    "        # print(df_result.head())\n",
    "        # 设置 quoting=1 是设置每个值都加上双引号以隔离开每个数据。\n",
    "        # 既然csv无法设置字段的数据类型，那么我们加上双引号，把所有类型都设定为字符串。\n",
    "        # df.to_csv(os.path.join(ouput_csvfile_path, pg_output_csvfile_name),\n",
    "        # index=False,\n",
    "        # header=True,\n",
    "        # encoding=\"utf-8\", \n",
    "        # quoting=1)\n",
    "    except Exception as e:\n",
    "        print(F'查询失败，详情:{e}')\n",
    "    finally:\n",
    "        connect.close()"
   ]
  },
  {
   "cell_type": "code",
   "execution_count": 3,
   "metadata": {},
   "outputs": [
    {
     "data": {
      "text/html": [
       "<div>\n",
       "<style scoped>\n",
       "    .dataframe tbody tr th:only-of-type {\n",
       "        vertical-align: middle;\n",
       "    }\n",
       "\n",
       "    .dataframe tbody tr th {\n",
       "        vertical-align: top;\n",
       "    }\n",
       "\n",
       "    .dataframe thead th {\n",
       "        text-align: right;\n",
       "    }\n",
       "</style>\n",
       "<table border=\"1\" class=\"dataframe\">\n",
       "  <thead>\n",
       "    <tr style=\"text-align: right;\">\n",
       "      <th></th>\n",
       "      <th>name</th>\n",
       "      <th>salary</th>\n",
       "      <th>years_experience</th>\n",
       "    </tr>\n",
       "  </thead>\n",
       "  <tbody>\n",
       "    <tr>\n",
       "      <th>0</th>\n",
       "      <td>Keagan Klocko</td>\n",
       "      <td>92239.0868697</td>\n",
       "      <td>4</td>\n",
       "    </tr>\n",
       "    <tr>\n",
       "      <th>1</th>\n",
       "      <td>Brandy Collier</td>\n",
       "      <td>61086.9992117</td>\n",
       "      <td>2</td>\n",
       "    </tr>\n",
       "    <tr>\n",
       "      <th>2</th>\n",
       "      <td>Veronica Okuneva</td>\n",
       "      <td>47298.0146627</td>\n",
       "      <td>3</td>\n",
       "    </tr>\n",
       "    <tr>\n",
       "      <th>3</th>\n",
       "      <td>Shana Beahan</td>\n",
       "      <td>59978.9111169</td>\n",
       "      <td>3</td>\n",
       "    </tr>\n",
       "    <tr>\n",
       "      <th>4</th>\n",
       "      <td>Ayden Toy</td>\n",
       "      <td>81590.5826583</td>\n",
       "      <td>2</td>\n",
       "    </tr>\n",
       "    <tr>\n",
       "      <th>...</th>\n",
       "      <td>...</td>\n",
       "      <td>...</td>\n",
       "      <td>...</td>\n",
       "    </tr>\n",
       "    <tr>\n",
       "      <th>244</th>\n",
       "      <td>Emie Hansen</td>\n",
       "      <td>75140.5711447</td>\n",
       "      <td>2</td>\n",
       "    </tr>\n",
       "    <tr>\n",
       "      <th>245</th>\n",
       "      <td>Torrance Marquardt</td>\n",
       "      <td>49592.0750131</td>\n",
       "      <td>3</td>\n",
       "    </tr>\n",
       "    <tr>\n",
       "      <th>246</th>\n",
       "      <td>Myrna Barton</td>\n",
       "      <td>53852.4403867</td>\n",
       "      <td>4</td>\n",
       "    </tr>\n",
       "    <tr>\n",
       "      <th>247</th>\n",
       "      <td>Morris Thiel</td>\n",
       "      <td>40272.1841174</td>\n",
       "      <td>3</td>\n",
       "    </tr>\n",
       "    <tr>\n",
       "      <th>248</th>\n",
       "      <td>Christ Cummings</td>\n",
       "      <td>50584.7817435</td>\n",
       "      <td>1</td>\n",
       "    </tr>\n",
       "  </tbody>\n",
       "</table>\n",
       "<p>249 rows × 3 columns</p>\n",
       "</div>"
      ],
      "text/plain": [
       "                   name         salary years_experience\n",
       "0         Keagan Klocko  92239.0868697                4\n",
       "1        Brandy Collier  61086.9992117                2\n",
       "2      Veronica Okuneva  47298.0146627                3\n",
       "3          Shana Beahan  59978.9111169                3\n",
       "4             Ayden Toy  81590.5826583                2\n",
       "..                  ...            ...              ...\n",
       "244         Emie Hansen  75140.5711447                2\n",
       "245  Torrance Marquardt  49592.0750131                3\n",
       "246        Myrna Barton  53852.4403867                4\n",
       "247        Morris Thiel  40272.1841174                3\n",
       "248     Christ Cummings  50584.7817435                1\n",
       "\n",
       "[249 rows x 3 columns]"
      ]
     },
     "execution_count": 3,
     "metadata": {},
     "output_type": "execute_result"
    }
   ],
   "source": [
    "output_pg_to_csv_use_df(sql_query, pg_table_name='salary')\n",
    "df"
   ]
  }
 ],
 "metadata": {
  "kernelspec": {
   "display_name": "Python 3.7.13 ('bokeh')",
   "language": "python",
   "name": "python3"
  },
  "language_info": {
   "codemirror_mode": {
    "name": "ipython",
    "version": 3
   },
   "file_extension": ".py",
   "mimetype": "text/x-python",
   "name": "python",
   "nbconvert_exporter": "python",
   "pygments_lexer": "ipython3",
   "version": "3.7.13"
  },
  "orig_nbformat": 4,
  "vscode": {
   "interpreter": {
    "hash": "271e4a14456bfb4813c0d32648116d2925a2fa24f47a1fd060917db7bb9d4d03"
   }
  }
 },
 "nbformat": 4,
 "nbformat_minor": 2
}
